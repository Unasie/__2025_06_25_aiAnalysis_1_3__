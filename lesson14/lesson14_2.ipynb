{
 "cells": [
  {
   "cell_type": "code",
   "execution_count": 1,
   "id": "fe2f7d3b",
   "metadata": {},
   "outputs": [],
   "source": [
    "#載入字型\n",
    "import matplotlib as mpl\n",
    "from matplotlib.font_manager import fontManager\n",
    "\n",
    "fontManager.addfont('ChineseFont.ttf')  # 字型檔路徑\n",
    "mpl.rc('font', family='ChineseFont')"
   ]
  },
  {
   "cell_type": "code",
   "execution_count": null,
   "id": "59c22eeb",
   "metadata": {},
   "outputs": [],
   "source": [
    "import matplotlib.pyplot as plt\n"
   ]
  }
 ],
 "metadata": {
  "kernelspec": {
   "display_name": "data_analysis_1_3",
   "language": "python",
   "name": "python3"
  },
  "language_info": {
   "codemirror_mode": {
    "name": "ipython",
    "version": 3
   },
   "file_extension": ".py",
   "mimetype": "text/x-python",
   "name": "python",
   "nbconvert_exporter": "python",
   "pygments_lexer": "ipython3",
   "version": "3.12.11"
  }
 },
 "nbformat": 4,
 "nbformat_minor": 5
}
