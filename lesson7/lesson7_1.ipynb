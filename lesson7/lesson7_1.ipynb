{
 "cells": [
  {
   "cell_type": "code",
   "execution_count": 23,
   "id": "413a4f91",
   "metadata": {},
   "outputs": [
    {
     "name": "stdout",
     "output_type": "stream",
     "text": [
      "請輸入整數,求所有的因數: 20\n",
      "20 的因數有:1  2  4  5  10  20  "
     ]
    }
   ],
   "source": [
    "#請輸入整數,求所有的因數:10\n",
    "#輸出:10的因數有:1 2 5 10\n",
    "\n",
    "nut = int(input(\"請輸入整數:\"))\n",
    "print(\"請輸入整數,求所有的因數:\",nut)\n",
    "print(nut,\"的因數有:\",end='')\n",
    "\n",
    "factor = 1\n",
    "while (factor <= nut):\n",
    "    if nut % factor == 0:\n",
    "        print(factor,end='  ')\n",
    "    factor += 1"
   ]
  },
  {
   "cell_type": "code",
   "execution_count": 26,
   "id": "e3b6204d",
   "metadata": {},
   "outputs": [
    {
     "name": "stdout",
     "output_type": "stream",
     "text": [
      "10 及 15 的公因數：1 5 "
     ]
    }
   ],
   "source": [
    "#請輸入第1個整數:10\n",
    "#請輸入第2個整數:15\n",
    "#輸出:10和15的公因數:1 5\n",
    "\n",
    "value1 = int(input(\"請輸入第一個整數：\"))\n",
    "value2 = int(input(\"請輸入第二個整數：\"))\n",
    "print(f\"{value1} 及 {value2} 的公因數：\",end='')\n",
    "\n",
    "factor = 1\n",
    "while (factor <= value1 and factor <= value2):\n",
    "    if value1 % factor == 0 and value2 % factor == 0:\n",
    "        print(factor,end=' ')\n",
    "    factor += 1"
   ]
  }
 ],
 "metadata": {
  "kernelspec": {
   "display_name": "base",
   "language": "python",
   "name": "python3"
  },
  "language_info": {
   "codemirror_mode": {
    "name": "ipython",
    "version": 3
   },
   "file_extension": ".py",
   "mimetype": "text/x-python",
   "name": "python",
   "nbconvert_exporter": "python",
   "pygments_lexer": "ipython3",
   "version": "3.13.2"
  }
 },
 "nbformat": 4,
 "nbformat_minor": 5
}
