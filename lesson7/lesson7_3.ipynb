{
 "cells": [
  {
   "cell_type": "markdown",
   "id": "644552ca",
   "metadata": {},
   "source": [
    "### 猜數字遊戲"
   ]
  },
  {
   "cell_type": "code",
   "execution_count": 2,
   "id": "d18987c3",
   "metadata": {},
   "outputs": [
    {
     "name": "stdout",
     "output_type": "stream",
     "text": [
      "=====猜數字遊戲=====\n",
      "\n",
      "賓果!猜對了,答案是:1\n",
      "您猜了3次\n",
      "遊戲結束\n"
     ]
    }
   ],
   "source": [
    "import random\n",
    "\n",
    "min = 1\n",
    "max = 10\n",
    "count = 0\n",
    "guess_value = random.randint(min,max)\n",
    "print(\"=====猜數字遊戲=====\\n\")\n",
    "while(True):\n",
    "    keyin = int(input(f\"猜數字範圍{min}~{max}\"))\n",
    "    count += 1\n",
    "    if keyin >= min and keyin <= 100:\n",
    "        if(keyin == guess_value):\n",
    "            print(f\"賓果!猜對了,答案是:{guess_value}\")\n",
    "            print(f\"您猜了{count}次\")\n",
    "            break\n",
    "    else:\n",
    "        print(\"請輸入提示範圍內的數字\")\n",
    "print(\"遊戲結束\")"
   ]
  },
  {
   "cell_type": "code",
   "execution_count": 6,
   "id": "c498507d",
   "metadata": {},
   "outputs": [
    {
     "name": "stdout",
     "output_type": "stream",
     "text": [
      "=====猜數字遊戲=====\n",
      "\n",
      "再小一點\n",
      "您猜了1次\n",
      "再小一點\n",
      "您猜了2次\n",
      "再大一點\n",
      "您猜了3次\n",
      "再大一點\n",
      "您猜了4次\n",
      "賓果!猜對了,答案是:39\n",
      "您猜了5次\n",
      "遊戲結束\n"
     ]
    }
   ],
   "source": [
    "import random\n",
    "\n",
    "min = 1\n",
    "max = 100\n",
    "count = 0\n",
    "guess_value = random.randint(min,max)\n",
    "print(\"=====猜數字遊戲=====\\n\")\n",
    "while(True):\n",
    "    keyin = int(input(f\"猜數字範圍{min}~{max}\"))\n",
    "    count += 1\n",
    "    if keyin >= min and keyin <= 100:\n",
    "        if(keyin == guess_value):\n",
    "            print(f\"賓果!猜對了,答案是:{guess_value}\")\n",
    "            print(f\"您猜了{count}次\")\n",
    "            break\n",
    "        elif keyin > guess_value:\n",
    "            print(\"再小一點\")\n",
    "            max = keyin - 1\n",
    "        else:\n",
    "            print(\"再大一點\")\n",
    "            min = keyin + 1\n",
    "\n",
    "        print(f\"您猜了{count}次\")\n",
    "    else:\n",
    "        print(\"請輸入提示範圍內的數字\")\n",
    "print(\"遊戲結束\")"
   ]
  },
  {
   "cell_type": "code",
   "execution_count": 1,
   "id": "14af4d98",
   "metadata": {},
   "outputs": [
    {
     "name": "stdout",
     "output_type": "stream",
     "text": [
      "66\n",
      "=====猜數字遊戲=====\n",
      "\n",
      "再大一點\n",
      "您猜了1次\n",
      "格式錯誤無法轉換為整數,請重新輸入提示範圍內的數字,並繼續遊戲\n",
      "賓果!猜對了,答案是:66\n",
      "您猜了3次\n",
      "您總共玩了1次\n",
      "遊戲結束\n"
     ]
    }
   ],
   "source": [
    "import random\n",
    "\n",
    "count_value = 0\n",
    "\n",
    "while(True):\n",
    "    count_value += 1\n",
    "    min = 1\n",
    "    max = 100\n",
    "    count = 0\n",
    "    guess_value = random.randint(min,max)\n",
    "    print(guess_value)\n",
    "    print(\"=====猜數字遊戲=====\\n\")\n",
    "    while(True): \n",
    "        try: \n",
    "            count += 1 \n",
    "            keyin = int(input(f\"猜數字範圍{min}~{max}\"))\n",
    "            if (keyin >= min and keyin <= max):\n",
    "                if(keyin == guess_value):\n",
    "                    print(f\"賓果!猜對了,答案是:{guess_value}\")\n",
    "                    print(f\"您猜了{count}次\")\n",
    "                    break\n",
    "                elif(keyin > guess_value):\n",
    "                    print(\"再小一點\")\n",
    "                    max = keyin - 1\n",
    "                else:\n",
    "                    print(\"再大一點\")\n",
    "                    min = keyin + 1  \n",
    "\n",
    "                print(f\"您猜了{count}次\")\n",
    "\n",
    "            else: \n",
    "                print(\"請輸入提示範圍內的數字\")             \n",
    "        except ValueError as e:\n",
    "            print(\"格式錯誤無法轉換為整數,請重新輸入提示範圍內的數字,並繼續遊戲\")          \n",
    "        except Exception as e:\n",
    "            print(e)\n",
    "            \n",
    "    ans = input(\"是否還要重新遊戲呢?(y,n)\").strip().lower()\n",
    "    if ans == \"n\": \n",
    "        break\n",
    "\n",
    "print(f\"您總共玩了{count_value}次\")\n",
    "print(\"遊戲結束\")"
   ]
  }
 ],
 "metadata": {
  "kernelspec": {
   "display_name": "base",
   "language": "python",
   "name": "python3"
  },
  "language_info": {
   "codemirror_mode": {
    "name": "ipython",
    "version": 3
   },
   "file_extension": ".py",
   "mimetype": "text/x-python",
   "name": "python",
   "nbconvert_exporter": "python",
   "pygments_lexer": "ipython3",
   "version": "3.13.2"
  }
 },
 "nbformat": 4,
 "nbformat_minor": 5
}
