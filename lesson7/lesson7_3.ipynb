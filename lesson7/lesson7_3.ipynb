{
 "cells": [
  {
   "cell_type": "markdown",
   "id": "644552ca",
   "metadata": {},
   "source": [
    "### 猜數字遊戲"
   ]
  },
  {
   "cell_type": "code",
   "execution_count": 2,
   "id": "d18987c3",
   "metadata": {},
   "outputs": [
    {
     "name": "stdout",
     "output_type": "stream",
     "text": [
      "=====猜數字遊戲=====\n",
      "\n",
      "賓果!猜對了,答案是:1\n",
      "您猜了3次\n",
      "遊戲結束\n"
     ]
    }
   ],
   "source": [
    "import random\n",
    "\n",
    "min = 1\n",
    "max = 10\n",
    "count = 0\n",
    "guess_value = random.randint(min,max)\n",
    "print(\"=====猜數字遊戲=====\\n\")\n",
    "while(True):\n",
    "    keyin = int(input(f\"猜數字範圍{min}~{max}\"))\n",
    "    count += 1\n",
    "    if keyin >= min and keyin <= 100:\n",
    "        if(keyin == guess_value):\n",
    "            print(f\"賓果!猜對了,答案是:{guess_value}\")\n",
    "            print(f\"您猜了{count}次\")\n",
    "            break\n",
    "    else:\n",
    "        print(\"請輸入提示範圍內的數字\")\n",
    "print(\"遊戲結束\")"
   ]
  },
  {
   "cell_type": "code",
   "execution_count": 6,
   "id": "c498507d",
   "metadata": {},
   "outputs": [
    {
     "name": "stdout",
     "output_type": "stream",
     "text": [
      "=====猜數字遊戲=====\n",
      "\n",
      "再小一點\n",
      "您猜了1次\n",
      "再小一點\n",
      "您猜了2次\n",
      "再大一點\n",
      "您猜了3次\n",
      "再大一點\n",
      "您猜了4次\n",
      "賓果!猜對了,答案是:39\n",
      "您猜了5次\n",
      "遊戲結束\n"
     ]
    }
   ],
   "source": [
    "import random\n",
    "\n",
    "min = 1\n",
    "max = 100\n",
    "count = 0\n",
    "guess_value = random.randint(min,max)\n",
    "print(\"=====猜數字遊戲=====\\n\")\n",
    "while(True):\n",
    "    keyin = int(input(f\"猜數字範圍{min}~{max}\"))\n",
    "    count += 1\n",
    "    if keyin >= min and keyin <= 100:\n",
    "        if(keyin == guess_value):\n",
    "            print(f\"賓果!猜對了,答案是:{guess_value}\")\n",
    "            print(f\"您猜了{count}次\")\n",
    "            break\n",
    "        elif keyin > guess_value:\n",
    "            print(\"再小一點\")\n",
    "            max = keyin - 1\n",
    "        else:\n",
    "            print(\"再大一點\")\n",
    "            min = keyin + 1\n",
    "\n",
    "        print(f\"您猜了{count}次\")\n",
    "    else:\n",
    "        print(\"請輸入提示範圍內的數字\")\n",
    "print(\"遊戲結束\")"
   ]
  },
  {
   "cell_type": "code",
   "execution_count": null,
   "id": "14af4d98",
   "metadata": {},
   "outputs": [
    {
     "name": "stdout",
     "output_type": "stream",
     "text": [
      "=====猜數字遊戲=====\n",
      "\n",
      "再大一點\n",
      "請重新輸入提示範圍內的數字,並繼續遊戲\n",
      "再大一點\n",
      "再小一點\n",
      "再大一點\n",
      "再小一點\n",
      "再小一點\n",
      "賓果!猜對了,答案是:81\n",
      "賓果!猜對了,答案是:81\n"
     ]
    },
    {
     "ename": "ValueError",
     "evalue": "invalid literal for int() with base 10: 'n'",
     "output_type": "error",
     "traceback": [
      "\u001b[31m---------------------------------------------------------------------------\u001b[39m",
      "\u001b[31mValueError\u001b[39m                                Traceback (most recent call last)",
      "\u001b[36mCell\u001b[39m\u001b[36m \u001b[39m\u001b[32mIn[56]\u001b[39m\u001b[32m, line 9\u001b[39m\n\u001b[32m      7\u001b[39m \u001b[38;5;28mprint\u001b[39m(\u001b[33m\"\u001b[39m\u001b[33m=====猜數字遊戲=====\u001b[39m\u001b[38;5;130;01m\\n\u001b[39;00m\u001b[33m\"\u001b[39m)\n\u001b[32m      8\u001b[39m \u001b[38;5;28;01mwhile\u001b[39;00m(\u001b[38;5;28;01mTrue\u001b[39;00m):\n\u001b[32m----> \u001b[39m\u001b[32m9\u001b[39m     keyin = \u001b[38;5;28;43mint\u001b[39;49m\u001b[43m(\u001b[49m\u001b[38;5;28;43minput\u001b[39;49m\u001b[43m(\u001b[49m\u001b[33;43mf\u001b[39;49m\u001b[33;43m\"\u001b[39;49m\u001b[33;43m猜數字範圍\u001b[39;49m\u001b[38;5;132;43;01m{\u001b[39;49;00m\u001b[38;5;28;43mmin\u001b[39;49m\u001b[38;5;132;43;01m}\u001b[39;49;00m\u001b[33;43m~\u001b[39;49m\u001b[38;5;132;43;01m{\u001b[39;49;00m\u001b[38;5;28;43mmax\u001b[39;49m\u001b[38;5;132;43;01m}\u001b[39;49;00m\u001b[33;43m\"\u001b[39;49m\u001b[43m)\u001b[49m\u001b[43m)\u001b[49m\n\u001b[32m     10\u001b[39m     count += \u001b[32m1\u001b[39m\n\u001b[32m     11\u001b[39m     \u001b[38;5;28;01mif\u001b[39;00m keyin >= \u001b[38;5;28mmin\u001b[39m \u001b[38;5;129;01mand\u001b[39;00m keyin <= \u001b[32m100\u001b[39m:\n",
      "\u001b[31mValueError\u001b[39m: invalid literal for int() with base 10: 'n'"
     ]
    }
   ],
   "source": [
    "import random\n",
    "\n",
    "min = 1\n",
    "max = 100\n",
    "count = 0\n",
    "guess_value = random.randint(min,max)\n",
    "print(\"=====猜數字遊戲=====\\n\")\n",
    "while(True):\n",
    "    keyin = int(input(f\"猜數字範圍{min}~{max}\"))\n",
    "    count += 1\n",
    "    if keyin >= min and keyin <= 100:\n",
    "        if keyin > guess_value:\n",
    "            print(\"再小一點\")\n",
    "            max = keyin - 1\n",
    "        elif keyin < guess_value:\n",
    "            print(\"再大一點\")\n",
    "            min = keyin + 1\n",
    "        else:\n",
    "            print(f\"賓果!猜對了,答案是:{guess_value}\")\n",
    "            ans = input(\"是否還要重新遊戲呢?(y,n)\")\n",
    "            if ans == 'n':\n",
    "                print(f\"您總共猜了{count}次\")  \n",
    "                break           \n",
    "    else:\n",
    "        print(\"請重新輸入提示範圍內的數字,並繼續遊戲\")\n",
    "        continue\n",
    "\n",
    "print(\"遊戲結束\")"
   ]
  }
 ],
 "metadata": {
  "kernelspec": {
   "display_name": "base",
   "language": "python",
   "name": "python3"
  },
  "language_info": {
   "codemirror_mode": {
    "name": "ipython",
    "version": 3
   },
   "file_extension": ".py",
   "mimetype": "text/x-python",
   "name": "python",
   "nbconvert_exporter": "python",
   "pygments_lexer": "ipython3",
   "version": "3.13.2"
  }
 },
 "nbformat": 4,
 "nbformat_minor": 5
}
