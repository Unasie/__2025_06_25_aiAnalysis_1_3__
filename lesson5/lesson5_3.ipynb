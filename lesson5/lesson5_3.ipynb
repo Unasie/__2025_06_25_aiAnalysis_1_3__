{
 "cells": [
  {
   "cell_type": "code",
   "execution_count": 1,
   "id": "b279b35a",
   "metadata": {},
   "outputs": [
    {
     "name": "stdout",
     "output_type": "stream",
     "text": [
      "大於等於60\n"
     ]
    }
   ],
   "source": [
    "scroes = 78\n",
    "\n",
    "if scroes >= 60:\n",
    "    print(\"大於等於60\")\n",
    "else:\n",
    "    print(\"小於60\")"
   ]
  },
  {
   "cell_type": "code",
   "execution_count": null,
   "id": "75ff2b6c",
   "metadata": {},
   "outputs": [
    {
     "name": "stdout",
     "output_type": "stream",
     "text": [
      "60 <= sroes <= 80\n"
     ]
    }
   ],
   "source": [
    "#60 <= scroes <= 80\n",
    "#2個條件,巢狀判斷\n",
    "\n",
    "scroes = 75\n",
    "\n",
    "if scroes >= 60:\n",
    "    if scroes <= 80:\n",
    "        print(\"60 <= scroes <= 80\")\n",
    "    else:\n",
    "        print(\"scores > 80\")\n",
    "else:\n",
    "    print(\"scroes < 60\")"
   ]
  },
  {
   "cell_type": "code",
   "execution_count": null,
   "id": "2108491f",
   "metadata": {},
   "outputs": [
    {
     "name": "stdout",
     "output_type": "stream",
     "text": [
      "60 <= sroes <= 80\n"
     ]
    }
   ],
   "source": [
    "#60 <= scroes <= 80\n",
    "#2個條件,邏輯運算子\n",
    "scores = 75\n",
    "if scores >= 60 and scores <= 80:\n",
    "    print(\"60 <= scroes <= 80\")\n",
    "else:\n",
    "    print(\"scores可能大於80或小於60\")"
   ]
  },
  {
   "cell_type": "code",
   "execution_count": 4,
   "id": "a8ade378",
   "metadata": {},
   "outputs": [
    {
     "name": "stdout",
     "output_type": "stream",
     "text": [
      "60 <= sroes <= 80\n"
     ]
    }
   ],
   "source": [
    "#60 <= scroes <= 80\n",
    "#2個條件,邏輯運算子\n",
    "scores = 75\n",
    "if scores < 60 or scores > 80:\n",
    "    print(\"scores可能大於80或小於60\")\n",
    "else:\n",
    "    print(\"60 <= sroes <= 80\")"
   ]
  }
 ],
 "metadata": {
  "kernelspec": {
   "display_name": "base",
   "language": "python",
   "name": "python3"
  },
  "language_info": {
   "codemirror_mode": {
    "name": "ipython",
    "version": 3
   },
   "file_extension": ".py",
   "mimetype": "text/x-python",
   "name": "python",
   "nbconvert_exporter": "python",
   "pygments_lexer": "ipython3",
   "version": "3.13.2"
  }
 },
 "nbformat": 4,
 "nbformat_minor": 5
}
