{
 "cells": [
  {
   "cell_type": "code",
   "execution_count": 1,
   "id": "b279b35a",
   "metadata": {},
   "outputs": [
    {
     "name": "stdout",
     "output_type": "stream",
     "text": [
      "大於等於60\n"
     ]
    }
   ],
   "source": [
    "scroes = 78\n",
    "\n",
    "if scroes >= 60:\n",
    "    print(\"大於等於60\")\n",
    "else:\n",
    "    print(\"小於60\")"
   ]
  },
  {
   "cell_type": "code",
   "execution_count": null,
   "id": "75ff2b6c",
   "metadata": {},
   "outputs": [
    {
     "name": "stdout",
     "output_type": "stream",
     "text": [
      "60 <= sroes <= 80\n"
     ]
    }
   ],
   "source": [
    "#60 <= scroes <= 80\n",
    "#2個條件,巢狀判斷\n",
    "\n",
    "scroes = 75\n",
    "\n",
    "if scroes >= 60:\n",
    "    if scroes <= 80:\n",
    "        print(\"60 <= scroes <= 80\")\n",
    "    else:\n",
    "        print(\"scores > 80\")\n",
    "else:\n",
    "    print(\"scroes < 60\")"
   ]
  },
  {
   "cell_type": "code",
   "execution_count": null,
   "id": "2108491f",
   "metadata": {},
   "outputs": [
    {
     "name": "stdout",
     "output_type": "stream",
     "text": [
      "60 <= sroes <= 80\n"
     ]
    }
   ],
   "source": [
    "#60 <= scroes <= 80\n",
    "#2個條件,邏輯運算子\n",
    "scores = 75\n",
    "if scores >= 60 and scores <= 80:\n",
    "    print(\"60 <= scroes <= 80\")\n",
    "else:\n",
    "    print(\"scores可能大於80或小於60\")"
   ]
  },
  {
   "cell_type": "code",
   "execution_count": null,
   "id": "a8ade378",
   "metadata": {},
   "outputs": [
    {
     "name": "stdout",
     "output_type": "stream",
     "text": [
      "60 <= sroes <= 80\n"
     ]
    }
   ],
   "source": [
    "#60 <= scroes <= 80\n",
    "#2個條件,邏輯運算子\n",
    "scores = 75\n",
    "if scores < 60 or scores > 80:\n",
    "    print(\"scores可能大於80或小於60\")\n",
    "else:\n",
    "    print(\"60 <= scroes <= 80\")"
   ]
  },
  {
   "cell_type": "code",
   "execution_count": 36,
   "id": "802db450",
   "metadata": {},
   "outputs": [
    {
     "name": "stdout",
     "output_type": "stream",
     "text": [
      "身高: 155\n",
      "體重 52\n",
      "您的bmi是: 21.6\n",
      "計算完成\n"
     ]
    }
   ],
   "source": [
    "try:\n",
    "    heigh = int(input(\"請輸入身高(120-250cm):\"))\n",
    "    if heigh >= 120 and heigh <= 250:\n",
    "        print(\"身高:\",heigh)\n",
    "    else:\n",
    "        raise Exception(\"不在範圍內\")\n",
    "    weight = int(input(\"請輸入體重(30-200kg):\"))\n",
    "    if weight >= 30 and weight <= 200:\n",
    "        print(\"體重\",weight)\n",
    "    else:\n",
    "        raise Exception(\"不在範圍內\")\n",
    "except ValueError as e:\n",
    "    print(\"格式錯誤\",e)\n",
    "except Exception as e:\n",
    "    print(e)\n",
    "else:\n",
    "    bmi = weight / ((heigh / 100) ** 2)\n",
    "    print(\"您的bmi是:\",round(bmi,ndigits = 1))\n",
    "finally:\n",
    "    print(\"計算完成\")"
   ]
  }
 ],
 "metadata": {
  "kernelspec": {
   "display_name": "base",
   "language": "python",
   "name": "python3"
  },
  "language_info": {
   "codemirror_mode": {
    "name": "ipython",
    "version": 3
   },
   "file_extension": ".py",
   "mimetype": "text/x-python",
   "name": "python",
   "nbconvert_exporter": "python",
   "pygments_lexer": "ipython3",
   "version": "3.13.2"
  }
 },
 "nbformat": 4,
 "nbformat_minor": 5
}
