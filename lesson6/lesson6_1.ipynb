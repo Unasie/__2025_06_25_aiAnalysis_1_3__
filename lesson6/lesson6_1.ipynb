{
 "cells": [
  {
   "cell_type": "code",
   "execution_count": null,
   "id": "646129d9",
   "metadata": {},
   "outputs": [],
   "source": [
    "try:\n",
    "    height = float(input(\"請輸入身高(120-250cm):\"))\n",
    "    if 120 <= height <= 250:\n",
    "        print(\"您的身高為:\",height,\"cm\")\n",
    "    else:\n",
    "        raise Exception(\"輸入的身高不在範圍內\")\n",
    "    weight = float(input(\"請輸入體重(30-200kg):\"))\n",
    "    if 30 <= weight <= 200:\n",
    "        print(\"您的體重為:\",weight,\"kg\")\n",
    "    else:\n",
    "        raise Exception(\"輸入的體重不在範圍內\")\n",
    "except ValueError as e:\n",
    "    print(\"格式錯誤\",e)\n",
    "except Exception as e:\n",
    "    print(e)\n",
    "else:\n",
    "    bmi = weight / (height / 100) ** 2\n",
    "    print(\"您的bmi是:\",round(bmi,ndigits = 1))\n",
    "finally:\n",
    "    print(\"計算完成\")"
   ]
  },
  {
   "cell_type": "code",
   "execution_count": 9,
   "id": "1f698e18",
   "metadata": {},
   "outputs": [
    {
     "name": "stdout",
     "output_type": "stream",
     "text": [
      "您的身高為: 160.0 cm\n",
      "您的體重為: 80.0 kg\n",
      "您的bmi是: 31.2\n",
      "BMI狀態為: 中度肥胖\n",
      "計算完成\n"
     ]
    }
   ],
   "source": [
    "try:\n",
    "    height = float(input(\"請輸入身高(120-250cm):\"))\n",
    "    if not(120 <= height <= 250):\n",
    "        raise Exception(\"輸入的身高不在範圍內\")\n",
    "    \n",
    "    weight = float(input(\"請輸入體重(30-200kg):\"))\n",
    "    if not(30 <= weight <= 200):\n",
    "        raise Exception(\"輸入的體重不在範圍內\")\n",
    "\n",
    "    print(\"您的身高為:\",height,\"cm\")\n",
    "    print(\"您的體重為:\",weight,\"kg\")\n",
    "        \n",
    "except ValueError as e:\n",
    "    print(\"格式錯誤\",e)\n",
    "except Exception as e:\n",
    "    print(e)\n",
    "else:\n",
    "    bmi = weight / (height / 100) ** 2\n",
    "    print(\"您的bmi是:\",round(bmi,ndigits = 1))\n",
    "\n",
    "    if bmi < 18.5:\n",
    "        bmi_value = '體重過輕'\n",
    "    elif bmi < 24:\n",
    "        bmi_value = '正常範圍'\n",
    "    elif bmi < 27:\n",
    "        bmi_value = '過重'\n",
    "    elif bmi < 30:\n",
    "        bmi_value = '輕度肥胖'\n",
    "    elif bmi < 35:\n",
    "        bmi_value = '中度肥胖'\n",
    "    else:\n",
    "        bmi_value = '重度肥胖'\n",
    "    print(\"BMI狀態為:\",bmi_value)\n",
    "finally:\n",
    "    print(\"計算完成\")"
   ]
  }
 ],
 "metadata": {
  "kernelspec": {
   "display_name": "base",
   "language": "python",
   "name": "python3"
  },
  "language_info": {
   "codemirror_mode": {
    "name": "ipython",
    "version": 3
   },
   "file_extension": ".py",
   "mimetype": "text/x-python",
   "name": "python",
   "nbconvert_exporter": "python",
   "pygments_lexer": "ipython3",
   "version": "3.13.2"
  }
 },
 "nbformat": 4,
 "nbformat_minor": 5
}
