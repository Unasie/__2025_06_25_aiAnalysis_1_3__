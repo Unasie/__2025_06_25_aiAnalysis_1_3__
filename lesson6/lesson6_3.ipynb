{
 "cells": [
  {
   "cell_type": "code",
   "execution_count": 1,
   "id": "cdbff049",
   "metadata": {},
   "outputs": [
    {
     "data": {
      "text/plain": [
       "55"
      ]
     },
     "execution_count": 1,
     "metadata": {},
     "output_type": "execute_result"
    }
   ],
   "source": [
    "total = 0\n",
    "total += 1\n",
    "total += 2\n",
    "total += 3\n",
    "total += 4\n",
    "total += 5\n",
    "total += 6\n",
    "total += 7\n",
    "total += 8\n",
    "total += 9\n",
    "total += 10\n",
    "\n",
    "total"
   ]
  },
  {
   "cell_type": "code",
   "execution_count": 2,
   "id": "02de2e81",
   "metadata": {},
   "outputs": [
    {
     "name": "stdout",
     "output_type": "stream",
     "text": [
      "a\n",
      "b\n",
      "c\n",
      "d\n",
      "e\n"
     ]
    }
   ],
   "source": [
    "for word in 'abcde':\n",
    "    print(word)"
   ]
  },
  {
   "cell_type": "code",
   "execution_count": 4,
   "id": "57cbfcc2",
   "metadata": {},
   "outputs": [
    {
     "data": {
      "text/plain": [
       "range(1, 10, 2)"
      ]
     },
     "execution_count": 4,
     "metadata": {},
     "output_type": "execute_result"
    }
   ],
   "source": [
    "range(5) #0~4\n",
    "range(1,5)  #1~4\n",
    "range(1,10,2) #1,3,5,7,9"
   ]
  },
  {
   "cell_type": "code",
   "execution_count": 6,
   "id": "ff5e0784",
   "metadata": {},
   "outputs": [
    {
     "name": "stdout",
     "output_type": "stream",
     "text": [
      "5050\n"
     ]
    }
   ],
   "source": [
    "total = 0\n",
    "for i in range(1,101):\n",
    "    total += i\n",
    "print(total)"
   ]
  },
  {
   "cell_type": "code",
   "execution_count": 13,
   "id": "7aa3d634",
   "metadata": {},
   "outputs": [
    {
     "name": "stdout",
     "output_type": "stream",
     "text": [
      "i=1\n",
      "j=1 j=2 j=3 j=4 j=5 j=6 j=7 j=8 j=9 \n",
      "========\n",
      "i=2\n",
      "j=1 j=2 j=3 j=4 j=5 j=6 j=7 j=8 j=9 \n",
      "========\n",
      "i=3\n",
      "j=1 j=2 j=3 j=4 j=5 j=6 j=7 j=8 j=9 \n",
      "========\n",
      "i=4\n",
      "j=1 j=2 j=3 j=4 j=5 j=6 j=7 j=8 j=9 \n",
      "========\n",
      "i=5\n",
      "j=1 j=2 j=3 j=4 j=5 j=6 j=7 j=8 j=9 \n",
      "========\n",
      "i=6\n",
      "j=1 j=2 j=3 j=4 j=5 j=6 j=7 j=8 j=9 \n",
      "========\n",
      "i=7\n",
      "j=1 j=2 j=3 j=4 j=5 j=6 j=7 j=8 j=9 \n",
      "========\n",
      "i=8\n",
      "j=1 j=2 j=3 j=4 j=5 j=6 j=7 j=8 j=9 \n",
      "========\n",
      "i=9\n",
      "j=1 j=2 j=3 j=4 j=5 j=6 j=7 j=8 j=9 \n",
      "========\n"
     ]
    }
   ],
   "source": [
    "for i in range(1,10):\n",
    "    print(\"i=\",i,sep='')\n",
    "    for j in range(1,10):\n",
    "        print(\"j=\",j,end=\" \",sep='')\n",
    "    print(\"\\n========\")"
   ]
  },
  {
   "cell_type": "code",
   "execution_count": 14,
   "id": "20203543",
   "metadata": {},
   "outputs": [
    {
     "name": "stdout",
     "output_type": "stream",
     "text": [
      "1*1=1 1*2=2 1*3=3 1*4=4 1*5=5 1*6=6 1*7=7 1*8=8 1*9=9 \n",
      "\n",
      "2*1=2 2*2=4 2*3=6 2*4=8 2*5=10 2*6=12 2*7=14 2*8=16 2*9=18 \n",
      "\n",
      "3*1=3 3*2=6 3*3=9 3*4=12 3*5=15 3*6=18 3*7=21 3*8=24 3*9=27 \n",
      "\n",
      "4*1=4 4*2=8 4*3=12 4*4=16 4*5=20 4*6=24 4*7=28 4*8=32 4*9=36 \n",
      "\n",
      "5*1=5 5*2=10 5*3=15 5*4=20 5*5=25 5*6=30 5*7=35 5*8=40 5*9=45 \n",
      "\n",
      "6*1=6 6*2=12 6*3=18 6*4=24 6*5=30 6*6=36 6*7=42 6*8=48 6*9=54 \n",
      "\n",
      "7*1=7 7*2=14 7*3=21 7*4=28 7*5=35 7*6=42 7*7=49 7*8=56 7*9=63 \n",
      "\n",
      "8*1=8 8*2=16 8*3=24 8*4=32 8*5=40 8*6=48 8*7=56 8*8=64 8*9=72 \n",
      "\n",
      "9*1=9 9*2=18 9*3=27 9*4=36 9*5=45 9*6=54 9*7=63 9*8=72 9*9=81 \n",
      "\n"
     ]
    }
   ],
   "source": [
    "for i in range(1,10):\n",
    "    for j in range(1,10):\n",
    "        print(i,'*',j,'=',i*j,end=\" \",sep='')\n",
    "    print(\"\\n\")"
   ]
  },
  {
   "cell_type": "code",
   "execution_count": 15,
   "id": "cbf71d5d",
   "metadata": {},
   "outputs": [
    {
     "name": "stdout",
     "output_type": "stream",
     "text": [
      "apple有5個,orange有10個\n"
     ]
    }
   ],
   "source": [
    "apple = 5\n",
    "orange = 10\n",
    "\n",
    "print(\"apple有\",apple,\"個,orange有\",orange,\"個\",sep='')"
   ]
  },
  {
   "cell_type": "code",
   "execution_count": 17,
   "id": "a2e665f5",
   "metadata": {},
   "outputs": [
    {
     "data": {
      "text/plain": [
       "'apple有7個,orange有10個'"
      ]
     },
     "execution_count": 17,
     "metadata": {},
     "output_type": "execute_result"
    }
   ],
   "source": [
    "apple = 7\n",
    "orange = 10\n",
    "\n",
    "#字串插補(字串格式化),目的字串和變數整合,成為一個全新的字串\n",
    "f\"apple有{apple}個,orange有{orange}個\""
   ]
  },
  {
   "cell_type": "code",
   "execution_count": 19,
   "id": "3e2a139e",
   "metadata": {},
   "outputs": [
    {
     "name": "stdout",
     "output_type": "stream",
     "text": [
      "1 * 1= 1\t1 * 2= 2\t1 * 3= 3\t1 * 4= 4\t1 * 5= 5\t1 * 6= 6\t1 * 7= 7\t1 * 8= 8\t1 * 9= 9\t\n",
      "\n",
      "2 * 1= 2\t2 * 2= 4\t2 * 3= 6\t2 * 4= 8\t2 * 5=10\t2 * 6=12\t2 * 7=14\t2 * 8=16\t2 * 9=18\t\n",
      "\n",
      "3 * 1= 3\t3 * 2= 6\t3 * 3= 9\t3 * 4=12\t3 * 5=15\t3 * 6=18\t3 * 7=21\t3 * 8=24\t3 * 9=27\t\n",
      "\n",
      "4 * 1= 4\t4 * 2= 8\t4 * 3=12\t4 * 4=16\t4 * 5=20\t4 * 6=24\t4 * 7=28\t4 * 8=32\t4 * 9=36\t\n",
      "\n",
      "5 * 1= 5\t5 * 2=10\t5 * 3=15\t5 * 4=20\t5 * 5=25\t5 * 6=30\t5 * 7=35\t5 * 8=40\t5 * 9=45\t\n",
      "\n",
      "6 * 1= 6\t6 * 2=12\t6 * 3=18\t6 * 4=24\t6 * 5=30\t6 * 6=36\t6 * 7=42\t6 * 8=48\t6 * 9=54\t\n",
      "\n",
      "7 * 1= 7\t7 * 2=14\t7 * 3=21\t7 * 4=28\t7 * 5=35\t7 * 6=42\t7 * 7=49\t7 * 8=56\t7 * 9=63\t\n",
      "\n",
      "8 * 1= 8\t8 * 2=16\t8 * 3=24\t8 * 4=32\t8 * 5=40\t8 * 6=48\t8 * 7=56\t8 * 8=64\t8 * 9=72\t\n",
      "\n",
      "9 * 1= 9\t9 * 2=18\t9 * 3=27\t9 * 4=36\t9 * 5=45\t9 * 6=54\t9 * 7=63\t9 * 8=72\t9 * 9=81\t\n",
      "\n"
     ]
    }
   ],
   "source": [
    "for i in range(1,10):\n",
    "    for j in range(1,10):\n",
    "        print(f\"{i:<2d}*{j:2d}={i*j:2d}\",end='\\t')\n",
    "    print(\"\\n\")"
   ]
  },
  {
   "cell_type": "code",
   "execution_count": null,
   "id": "4d3dddcb",
   "metadata": {},
   "outputs": [
    {
     "name": "stdout",
     "output_type": "stream",
     "text": [
      "10\n",
      "9\n",
      "8\n",
      "7\n",
      "6\n",
      "5\n",
      "4\n",
      "3\n",
      "2\n",
      "1\n"
     ]
    }
   ],
   "source": [
    "#使用while迴圈要小心產生無限迴圈\n",
    "i = 10\n",
    "while(i > 0):\n",
    "    print(i)\n",
    "    i -= 1"
   ]
  }
 ],
 "metadata": {
  "kernelspec": {
   "display_name": "base",
   "language": "python",
   "name": "python3"
  },
  "language_info": {
   "codemirror_mode": {
    "name": "ipython",
    "version": 3
   },
   "file_extension": ".py",
   "mimetype": "text/x-python",
   "name": "python",
   "nbconvert_exporter": "python",
   "pygments_lexer": "ipython3",
   "version": "3.13.2"
  }
 },
 "nbformat": 4,
 "nbformat_minor": 5
}
