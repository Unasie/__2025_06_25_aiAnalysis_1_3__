{
  "nbformat": 4,
  "nbformat_minor": 0,
  "metadata": {
    "colab": {
      "provenance": [],
      "authorship_tag": "ABX9TyPN+6UOhTUaagulgDMxMDU7",
      "include_colab_link": true
    },
    "kernelspec": {
      "name": "python3",
      "display_name": "Python 3"
    },
    "language_info": {
      "name": "python"
    }
  },
  "cells": [
    {
      "cell_type": "markdown",
      "metadata": {
        "id": "view-in-github",
        "colab_type": "text"
      },
      "source": [
        "<a href=\"https://colab.research.google.com/github/roberthsu2003/__2025_06_25_aiAnalysis_1_3__/blob/main/lesson1/lesson1_1.ipynb\" target=\"_parent\"><img src=\"https://colab.research.google.com/assets/colab-badge.svg\" alt=\"Open In Colab\"/></a>"
      ]
    },
    {
      "cell_type": "code",
      "source": [
        "!python --version"
      ],
      "metadata": {
        "id": "DIoUQYCNKrPX",
        "outputId": "ec1d9807-f072-4600-fef4-33529d664bca",
        "colab": {
          "base_uri": "https://localhost:8080/"
        }
      },
      "execution_count": 2,
      "outputs": [
        {
          "output_type": "stream",
          "name": "stdout",
          "text": [
            "Python 3.11.13\n"
          ]
        }
      ]
    },
    {
      "cell_type": "code",
      "source": [
        "print(\"Hello! Python!\")"
      ],
      "metadata": {
        "id": "UkpDwraJ9bKd",
        "outputId": "13097912-7bfd-4949-e1e2-cdb6e14bcb5c",
        "colab": {
          "base_uri": "https://localhost:8080/"
        }
      },
      "execution_count": null,
      "outputs": [
        {
          "output_type": "stream",
          "name": "stdout",
          "text": [
            "Hello! Python!\n"
          ]
        }
      ]
    },
    {
      "cell_type": "markdown",
      "source": [
        "python的純值的表示法"
      ],
      "metadata": {
        "id": "qdSYsF4nOm_W"
      }
    },
    {
      "cell_type": "code",
      "source": [
        "#整數(int)\n",
        "15\n",
        "\n",
        "#浮點數(float)\n",
        "15.0\n",
        "\n",
        "#字串(str)\n",
        "'15'\n",
        "\n",
        "#字串(str)\n",
        "\"15\"\n",
        "\n",
        "#bool\n",
        "True\n",
        "False\n",
        "\n",
        "#空值\n",
        "None"
      ],
      "metadata": {
        "id": "ptfl6MR_NUKQ"
      },
      "execution_count": 10,
      "outputs": []
    }
  ]
}