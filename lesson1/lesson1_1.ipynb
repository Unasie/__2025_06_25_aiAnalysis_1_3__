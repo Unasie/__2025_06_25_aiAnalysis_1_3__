{
  "nbformat": 4,
  "nbformat_minor": 0,
  "metadata": {
    "colab": {
      "provenance": [],
      "authorship_tag": "ABX9TyM7BRrXHvohxWGfj9rrXlRv",
      "include_colab_link": true
    },
    "kernelspec": {
      "name": "python3",
      "display_name": "Python 3"
    },
    "language_info": {
      "name": "python"
    }
  },
  "cells": [
    {
      "cell_type": "markdown",
      "metadata": {
        "id": "view-in-github",
        "colab_type": "text"
      },
      "source": [
        "<a href=\"https://colab.research.google.com/github/roberthsu2003/__2025_06_25_aiAnalysis_1_3__/blob/main/lesson1/lesson1_1.ipynb\" target=\"_parent\"><img src=\"https://colab.research.google.com/assets/colab-badge.svg\" alt=\"Open In Colab\"/></a>"
      ]
    },
    {
      "cell_type": "code",
      "source": [
        "!python --version"
      ],
      "metadata": {
        "colab": {
          "base_uri": "https://localhost:8080/"
        },
        "id": "DIoUQYCNKrPX",
        "outputId": "ec1d9807-f072-4600-fef4-33529d664bca"
      },
      "execution_count": 2,
      "outputs": [
        {
          "output_type": "stream",
          "name": "stdout",
          "text": [
            "Python 3.11.13\n"
          ]
        }
      ]
    },
    {
      "cell_type": "code",
      "source": [
        "print(\"Hello! Python!\")"
      ],
      "metadata": {
        "id": "UkpDwraJ9bKd",
        "outputId": "13097912-7bfd-4949-e1e2-cdb6e14bcb5c",
        "colab": {
          "base_uri": "https://localhost:8080/"
        }
      },
      "execution_count": null,
      "outputs": [
        {
          "output_type": "stream",
          "name": "stdout",
          "text": [
            "Hello! Python!\n"
          ]
        }
      ]
    },
    {
      "cell_type": "markdown",
      "source": [
        "python的純值的表示法"
      ],
      "metadata": {
        "id": "qdSYsF4nOm_W"
      }
    },
    {
      "cell_type": "code",
      "source": [
        "#整數(int)\n",
        "15\n",
        "\n",
        "#浮點數(float)\n",
        "15.0\n",
        "\n",
        "#字串(str)\n",
        "'15'\n",
        "\n",
        "#字串(str)\n",
        "\"15\"\n",
        "\n",
        "#bool\n",
        "True\n",
        "False\n",
        "\n",
        "#空值\n",
        "None"
      ],
      "metadata": {
        "id": "ptfl6MR_NUKQ"
      },
      "execution_count": 10,
      "outputs": []
    },
    {
      "cell_type": "markdown",
      "source": [
        "數學運算子\n",
        "- 2元運算子\n",
        "- 運算式(傳出數值)"
      ],
      "metadata": {
        "id": "dCzkjhw3SMN5"
      }
    },
    {
      "cell_type": "code",
      "source": [
        "#整數+整數\n",
        "print(5 + 8)\n",
        "\n",
        "print(90 - 10)\n",
        "\n",
        "print(4 * 7)\n",
        "\n",
        "print(7 / 2) #浮點數除法\n",
        "\n",
        "print(7 // 2) #整數除法\n",
        "\n",
        "print(7 % 3) #餘數\n",
        "\n",
        "print(3 ** 4) #次方"
      ],
      "metadata": {
        "id": "pXpdrrz9SZX1",
        "outputId": "6a20d8e0-ca9e-4bea-f733-c0ae017b8fac",
        "colab": {
          "base_uri": "https://localhost:8080/"
        }
      },
      "execution_count": 22,
      "outputs": [
        {
          "output_type": "stream",
          "name": "stdout",
          "text": [
            "13\n",
            "80\n",
            "28\n",
            "3.5\n",
            "3\n",
            "1\n",
            "81\n"
          ]
        }
      ]
    }
  ]
}