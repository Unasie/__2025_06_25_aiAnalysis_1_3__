{
 "cells": [
  {
   "cell_type": "code",
   "execution_count": 2,
   "id": "2b5b1f83",
   "metadata": {},
   "outputs": [
    {
     "name": "stdout",
     "output_type": "stream",
     "text": [
      "15 30 45 60 75 90 "
     ]
    }
   ],
   "source": [
    "for x in range(1,101):\n",
    "    if(x % 3 == 0 and x % 5 == 0):\n",
    "        print(x,end=' ')"
   ]
  },
  {
   "cell_type": "code",
   "execution_count": 2,
   "id": "a8efeaa9",
   "metadata": {},
   "outputs": [
    {
     "name": "stdout",
     "output_type": "stream",
     "text": [
      "及格總人數: 6 位\n",
      "不及格的平均分數: 51.0\n"
     ]
    }
   ],
   "source": [
    "sum_value = 0\n",
    "sum_value2 = 0\n",
    "total = 0\n",
    "for s in range(8):\n",
    "    s = int(input(\"請輸入學生的分數\"))\n",
    "    if(s >= 60):\n",
    "        sum_value += 1\n",
    "    else:\n",
    "        total += s\n",
    "        sum_value2 += 1 \n",
    "print(\"及格總人數:\",sum_value,\"位\")\n",
    "print(\"不及格的平均分數:\",round(total / sum_value2 ,1))\n"
   ]
  },
  {
   "cell_type": "code",
   "execution_count": 32,
   "id": "587db5f8",
   "metadata": {},
   "outputs": [
    {
     "name": "stdout",
     "output_type": "stream",
     "text": [
      "偶數\n"
     ]
    }
   ],
   "source": [
    "def check_even_odd(num):\n",
    "    if num % 2 == 0:\n",
    "        print(\"偶數\")\n",
    "    else:\n",
    "        print(\"奇數\")\n",
    "\n",
    "check_even_odd(4)"
   ]
  },
  {
   "cell_type": "code",
   "execution_count": 44,
   "id": "2f27c723",
   "metadata": {},
   "outputs": [
    {
     "name": "stdout",
     "output_type": "stream",
     "text": [
      "共有 9 個母音\n"
     ]
    }
   ],
   "source": [
    "text = input(\"請輸入一句英文\")\n",
    "v = \"aeiouAEIOU\"\n",
    "t = 0\n",
    "for e in text:\n",
    "    if e in v:\n",
    "        t += 1\n",
    "print(\"共有\",t,\"個母音\")"
   ]
  }
 ],
 "metadata": {
  "kernelspec": {
   "display_name": "base",
   "language": "python",
   "name": "python3"
  },
  "language_info": {
   "codemirror_mode": {
    "name": "ipython",
    "version": 3
   },
   "file_extension": ".py",
   "mimetype": "text/x-python",
   "name": "python",
   "nbconvert_exporter": "python",
   "pygments_lexer": "ipython3",
   "version": "3.13.2"
  }
 },
 "nbformat": 4,
 "nbformat_minor": 5
}
