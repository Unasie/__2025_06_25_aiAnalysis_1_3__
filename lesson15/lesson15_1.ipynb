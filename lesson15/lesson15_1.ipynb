{
 "cells": [
  {
   "cell_type": "code",
   "execution_count": null,
   "id": "1b2fbd02",
   "metadata": {},
   "outputs": [
    {
     "data": {
      "text/plain": [
       "array([10, 30, 50, 70, 90])"
      ]
     },
     "execution_count": 3,
     "metadata": {},
     "output_type": "execute_result"
    }
   ],
   "source": [
    "#陣列運算\n",
    "import numpy as np\n",
    "\n",
    "a = np.array([1, 3, 5, 7, 9])\n",
    "a *= 10\n",
    "a"
   ]
  },
  {
   "cell_type": "code",
   "execution_count": null,
   "id": "e23e4c3b",
   "metadata": {},
   "outputs": [
    {
     "data": {
      "text/plain": [
       "array([ 3,  7, 11, 15, 19])"
      ]
     },
     "execution_count": 5,
     "metadata": {},
     "output_type": "execute_result"
    }
   ],
   "source": [
    "#陣列運算\n",
    "a = np.array([1, 3, 5, 7, 9])\n",
    "b = np.array([2, 4, 6, 8, 10])\n",
    "\n",
    "a + b"
   ]
  },
  {
   "cell_type": "code",
   "execution_count": 17,
   "id": "9256ff27",
   "metadata": {},
   "outputs": [
    {
     "data": {
      "text/plain": [
       "dtype('int64')"
      ]
     },
     "execution_count": 17,
     "metadata": {},
     "output_type": "execute_result"
    }
   ],
   "source": [
    "#2維ndarray\n",
    "arr = np.array([[1, 3, 5],[2, 4, 6]])\n",
    "arr.ndim #查維度\n",
    "arr.shape #形狀\n",
    "arr.size #裡面元素的數量\n",
    "arr.dtype #型別"
   ]
  },
  {
   "cell_type": "code",
   "execution_count": 19,
   "id": "55046f76",
   "metadata": {},
   "outputs": [
    {
     "data": {
      "text/plain": [
       "array([[0.35122923, 0.51709478, 0.16710073, 0.79061242],\n",
       "       [0.88486672, 0.30154945, 0.42670657, 0.93759195],\n",
       "       [0.74536165, 0.67333152, 0.40818593, 0.09769062]])"
      ]
     },
     "execution_count": 19,
     "metadata": {},
     "output_type": "execute_result"
    }
   ],
   "source": [
    "np.random.rand()\n",
    "np.random.rand(3, 4)"
   ]
  },
  {
   "cell_type": "code",
   "execution_count": 26,
   "id": "f421d68f",
   "metadata": {},
   "outputs": [
    {
     "data": {
      "text/plain": [
       "array([[97, 99, 58, 63, 84],\n",
       "       [99, 58, 92, 69, 74],\n",
       "       [91, 55, 96, 82, 77],\n",
       "       [95, 77, 54, 60, 63]], dtype=int32)"
      ]
     },
     "execution_count": 26,
     "metadata": {},
     "output_type": "execute_result"
    }
   ],
   "source": [
    "scores = np.random.randint(50, 101,size=[4,5])\n",
    "scores"
   ]
  }
 ],
 "metadata": {
  "kernelspec": {
   "display_name": "data_analysis_1_3",
   "language": "python",
   "name": "python3"
  },
  "language_info": {
   "codemirror_mode": {
    "name": "ipython",
    "version": 3
   },
   "file_extension": ".py",
   "mimetype": "text/x-python",
   "name": "python",
   "nbconvert_exporter": "python",
   "pygments_lexer": "ipython3",
   "version": "3.12.11"
  }
 },
 "nbformat": 4,
 "nbformat_minor": 5
}
