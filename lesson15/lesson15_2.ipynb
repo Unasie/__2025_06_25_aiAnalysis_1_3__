{
 "cells": [
  {
   "cell_type": "code",
   "execution_count": 2,
   "id": "8f50f20c",
   "metadata": {},
   "outputs": [
    {
     "data": {
      "text/plain": [
       "array([ 0, 10, 20, 30, 40, 50, 60, 70, 80, 90])"
      ]
     },
     "execution_count": 2,
     "metadata": {},
     "output_type": "execute_result"
    }
   ],
   "source": [
    "import numpy as np\n",
    "arr = np.arange(10) *10\n",
    "arr"
   ]
  },
  {
   "cell_type": "code",
   "execution_count": 12,
   "id": "40fa5a87",
   "metadata": {},
   "outputs": [
    {
     "data": {
      "text/plain": [
       "array([50, 60, 70, 80, 90])"
      ]
     },
     "execution_count": 12,
     "metadata": {},
     "output_type": "execute_result"
    }
   ],
   "source": [
    "#索引\n",
    "arr[1]\n",
    "\n",
    "#slice切割\n",
    "arr[:5] #前5個\n",
    "arr[-5:] #後5個"
   ]
  },
  {
   "cell_type": "code",
   "execution_count": 15,
   "id": "69571516",
   "metadata": {},
   "outputs": [
    {
     "data": {
      "text/plain": [
       "array([[ 96,  89,  91,  85,  74],\n",
       "       [ 77, 100,  89,  97,  57],\n",
       "       [ 51,  62,  67,  93,  50],\n",
       "       [ 53,  55,  82,  57,  71],\n",
       "       [ 70,  77,  75,  61,  87],\n",
       "       [ 88,  81,  58,  71,  88],\n",
       "       [ 66,  73,  95,  78,  99],\n",
       "       [ 77,  77,  57,  55,  78],\n",
       "       [ 68,  77,  68,  99,  65],\n",
       "       [ 92,  57,  80,  67,  67],\n",
       "       [ 54,  62,  55,  77,  85],\n",
       "       [ 59,  85,  53,  80,  70],\n",
       "       [ 85,  80,  87,  85,  86],\n",
       "       [ 63,  84,  74, 100,  84],\n",
       "       [ 91,  81,  54,  65,  99],\n",
       "       [ 77,  67,  83,  61,  88],\n",
       "       [ 78,  73,  52,  50,  73],\n",
       "       [ 87,  86,  84,  67,  68],\n",
       "       [ 82,  61,  73, 100,  99],\n",
       "       [ 92,  66,  83,  71,  62],\n",
       "       [ 51,  84,  96,  71,  93],\n",
       "       [ 93,  92,  60,  59,  97],\n",
       "       [ 56, 100,  68,  68,  79],\n",
       "       [ 79,  55,  58,  52,  80],\n",
       "       [ 83,  86,  82,  59,  94],\n",
       "       [ 82,  74,  66,  92,  81],\n",
       "       [ 50,  50,  92,  60,  80],\n",
       "       [ 98,  78,  90,  89,  71],\n",
       "       [ 52,  81,  93,  67,  87],\n",
       "       [ 86,  93,  64,  56,  88],\n",
       "       [ 53, 100,  53,  94,  88],\n",
       "       [ 99,  77,  71,  81,  88],\n",
       "       [ 55,  84,  81,  54,  84],\n",
       "       [ 61,  95,  82,  95, 100],\n",
       "       [ 89,  67,  92,  68,  73],\n",
       "       [ 80,  89,  62,  95,  65],\n",
       "       [ 74,  55,  95,  51,  52],\n",
       "       [ 55,  73,  65,  62,  75],\n",
       "       [ 82,  74,  69,  89,  95],\n",
       "       [ 82,  95,  90,  72,  91],\n",
       "       [ 53,  76,  91,  52,  92],\n",
       "       [ 97,  65,  55,  71,  70],\n",
       "       [ 74,  65,  74,  88,  98],\n",
       "       [ 82,  64,  61,  91,  81],\n",
       "       [ 62,  97,  66,  87,  55],\n",
       "       [ 50,  52,  81,  73,  71],\n",
       "       [ 62,  77,  64,  71,  68],\n",
       "       [ 68,  98,  72,  98,  85],\n",
       "       [ 82,  71,  89,  86,  66],\n",
       "       [ 95,  66,  62,  94,  96]], dtype=int32)"
      ]
     },
     "execution_count": 15,
     "metadata": {},
     "output_type": "execute_result"
    }
   ],
   "source": [
    "scores = np.random.randint(50,101,size=(50,5))\n",
    "scores"
   ]
  },
  {
   "cell_type": "code",
   "execution_count": 20,
   "id": "383b699a",
   "metadata": {},
   "outputs": [
    {
     "data": {
      "text/plain": [
       "array([[96, 89, 91, 85, 74]], dtype=int32)"
      ]
     },
     "execution_count": 20,
     "metadata": {},
     "output_type": "execute_result"
    }
   ],
   "source": [
    "#第一位學生的分數\n",
    "scores[0] #(5,)一維\n",
    "scores[0,:] #(5,)一維\n",
    "scores[0:1,:] #(1,5)二維"
   ]
  },
  {
   "cell_type": "code",
   "execution_count": 25,
   "id": "5a34b069",
   "metadata": {},
   "outputs": [
    {
     "data": {
      "text/plain": [
       "array([[ 96,  89,  91],\n",
       "       [ 77, 100,  89],\n",
       "       [ 51,  62,  67],\n",
       "       [ 53,  55,  82],\n",
       "       [ 70,  77,  75]], dtype=int32)"
      ]
     },
     "execution_count": 25,
     "metadata": {},
     "output_type": "execute_result"
    }
   ],
   "source": [
    "#前5位學生分數\n",
    "scores[:5]\n",
    "#前5位學生前3個分數\n",
    "scores[:5,:3]"
   ]
  },
  {
   "cell_type": "code",
   "execution_count": 27,
   "id": "ee686ba0",
   "metadata": {},
   "outputs": [
    {
     "data": {
      "text/plain": [
       "array([91, 89, 67, 82, 75, 58, 95, 57, 68, 80, 55, 53, 87, 74, 54, 83, 52,\n",
       "       84, 73, 83, 96, 60, 68, 58, 82, 66, 92, 90, 93, 64, 53, 71, 81, 82,\n",
       "       92, 62, 95, 65, 69, 90, 91, 55, 74, 61, 66, 81, 64, 72, 89, 62],\n",
       "      dtype=int32)"
      ]
     },
     "execution_count": 27,
     "metadata": {},
     "output_type": "execute_result"
    }
   ],
   "source": [
    "scores[:,0] #第一科分數\n",
    "scores[:,1] #第二科分數\n",
    "scores[:,2] #第三科分數"
   ]
  },
  {
   "cell_type": "code",
   "execution_count": 29,
   "id": "39de7ff0",
   "metadata": {},
   "outputs": [
    {
     "data": {
      "text/plain": [
       "array([435, 420, 323, 318, 370, 386, 411, 344, 377, 363, 333, 347, 423,\n",
       "       405, 390, 376, 326, 392, 415, 374, 395, 401, 371, 324, 404, 395,\n",
       "       332, 426, 380, 387, 388, 416, 358, 433, 389, 391, 327, 330, 409,\n",
       "       430, 364, 358, 399, 379, 367, 327, 342, 421, 394, 413], dtype=int32)"
      ]
     },
     "execution_count": 29,
     "metadata": {},
     "output_type": "execute_result"
    }
   ],
   "source": [
    "#ndarray可以陣列運算\n",
    "total = scores[:,0] + scores[:,1] + scores[:,2]+ scores[:,3]+ scores[:,4]\n",
    "total"
   ]
  },
  {
   "cell_type": "code",
   "execution_count": 30,
   "id": "0f6d2f41",
   "metadata": {},
   "outputs": [
    {
     "data": {
      "text/plain": [
       "array([87. , 84. , 64.6, 63.6, 74. , 77.2, 82.2, 68.8, 75.4, 72.6, 66.6,\n",
       "       69.4, 84.6, 81. , 78. , 75.2, 65.2, 78.4, 83. , 74.8, 79. , 80.2,\n",
       "       74.2, 64.8, 80.8, 79. , 66.4, 85.2, 76. , 77.4, 77.6, 83.2, 71.6,\n",
       "       86.6, 77.8, 78.2, 65.4, 66. , 81.8, 86. , 72.8, 71.6, 79.8, 75.8,\n",
       "       73.4, 65.4, 68.4, 84.2, 78.8, 82.6])"
      ]
     },
     "execution_count": 30,
     "metadata": {},
     "output_type": "execute_result"
    }
   ],
   "source": [
    "total / 5"
   ]
  },
  {
   "cell_type": "code",
   "execution_count": null,
   "id": "8cb27fcc",
   "metadata": {},
   "outputs": [
    {
     "data": {
      "text/plain": [
       "array([87. , 84. , 64.6, 63.6, 74. , 77.2, 82.2, 68.8, 75.4, 72.6, 66.6,\n",
       "       69.4, 84.6, 81. , 78. , 75.2, 65.2, 78.4, 83. , 74.8, 79. , 80.2,\n",
       "       74.2, 64.8, 80.8, 79. , 66.4, 85.2, 76. , 77.4, 77.6, 83.2, 71.6,\n",
       "       86.6, 77.8, 78.2, 65.4, 66. , 81.8, 86. , 72.8, 71.6, 79.8, 75.8,\n",
       "       73.4, 65.4, 68.4, 84.2, 78.8, 82.6])"
      ]
     },
     "execution_count": 32,
     "metadata": {},
     "output_type": "execute_result"
    }
   ],
   "source": [
    "#np內的function\n",
    "np.sum(scores,axis=1)\n",
    "np.mean(scores,axis=1)"
   ]
  },
  {
   "cell_type": "code",
   "execution_count": null,
   "id": "29d0fa21",
   "metadata": {},
   "outputs": [
    {
     "data": {
      "text/plain": [
       "array([87. , 84. , 64.6, 63.6, 74. , 77.2, 82.2, 68.8, 75.4, 72.6, 66.6,\n",
       "       69.4, 84.6, 81. , 78. , 75.2, 65.2, 78.4, 83. , 74.8, 79. , 80.2,\n",
       "       74.2, 64.8, 80.8, 79. , 66.4, 85.2, 76. , 77.4, 77.6, 83.2, 71.6,\n",
       "       86.6, 77.8, 78.2, 65.4, 66. , 81.8, 86. , 72.8, 71.6, 79.8, 75.8,\n",
       "       73.4, 65.4, 68.4, 84.2, 78.8, 82.6])"
      ]
     },
     "execution_count": 34,
     "metadata": {},
     "output_type": "execute_result"
    }
   ],
   "source": [
    "#實體方法\n",
    "scores.sum(axis=1)\n",
    "scores.mean(axis=1)"
   ]
  }
 ],
 "metadata": {
  "kernelspec": {
   "display_name": "data_analysis_1_3",
   "language": "python",
   "name": "python3"
  },
  "language_info": {
   "codemirror_mode": {
    "name": "ipython",
    "version": 3
   },
   "file_extension": ".py",
   "mimetype": "text/x-python",
   "name": "python",
   "nbconvert_exporter": "python",
   "pygments_lexer": "ipython3",
   "version": "3.12.11"
  }
 },
 "nbformat": 4,
 "nbformat_minor": 5
}
